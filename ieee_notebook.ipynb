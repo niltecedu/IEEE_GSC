{
 "metadata": {
  "language_info": {
   "codemirror_mode": {
    "name": "ipython",
    "version": 3
   },
   "file_extension": ".py",
   "mimetype": "text/x-python",
   "name": "python",
   "nbconvert_exporter": "python",
   "pygments_lexer": "ipython3",
   "version": "3.7.9"
  },
  "orig_nbformat": 2,
  "kernelspec": {
   "name": "python379jvsc74a57bd038833c558168a2f2228df2ade84f7c2687ff2856777059045189bc76c0104225",
   "display_name": "Python 3.7.9 64-bit"
  }
 },
 "nbformat": 4,
 "nbformat_minor": 2,
 "cells": [
  {
   "cell_type": "code",
   "execution_count": 4,
   "metadata": {},
   "outputs": [],
   "source": [
    "import pandas as pd #To work with dataset\n",
    "import numpy as np #Math library\n",
    "import seaborn as sns #Graph library that use matplot in background\n",
    "import matplotlib.pyplot as plt #to plot some parameters in seaborn\n",
    "\n",
    "#Importing the data\n",
    "comp_fail = pd.read_csv(\"train_data.csv\",index_col=0)"
   ]
  },
  {
   "cell_type": "code",
   "execution_count": 5,
   "metadata": {},
   "outputs": [
    {
     "output_type": "stream",
     "name": "stdout",
     "text": [
      "<class 'pandas.core.frame.DataFrame'>\nIndex: 20000 entries, jobID1634295 to jobID1165709\nData columns (total 5 columns):\n #   Column               Non-Null Count  Dtype  \n---  ------               --------------  -----  \n 0   memory_GB            20000 non-null  float64\n 1   network_log10_MBps   20000 non-null  float64\n 2   local_IO_log10_MBps  20000 non-null  float64\n 3   NFS_IO_log10_MBps    20000 non-null  float64\n 4   failed               20000 non-null  int64  \ndtypes: float64(4), int64(1)\nmemory usage: 937.5+ KB\nNone\n"
     ]
    }
   ],
   "source": [
    "print(comp_fail.info())"
   ]
  },
  {
   "cell_type": "code",
   "execution_count": 6,
   "metadata": {},
   "outputs": [
    {
     "output_type": "stream",
     "name": "stdout",
     "text": [
      "memory_GB              18620\nnetwork_log10_MBps     16402\nlocal_IO_log10_MBps    13774\nNFS_IO_log10_MBps       8114\nfailed                     2\ndtype: int64\n              memory_GB  network_log10_MBps  local_IO_log10_MBps  \\\njob_id                                                             \njobID1634295    44.3904             -1.0262               0.8033   \njobID2033452    31.5839             -1.4608              -0.6080   \njobID2068800   154.4610             -0.5508              -0.3637   \njobID78826      71.8570              3.5701              -0.1281   \njobID2935014    30.0370              3.3094              -0.9463   \n\n              NFS_IO_log10_MBps  failed  \njob_id                                   \njobID1634295            -3.0000       0  \njobID2033452            -2.9967       0  \njobID2068800            -3.0000       0  \njobID78826               2.3040       0  \njobID2935014            -3.0000       0  \n"
     ]
    }
   ],
   "source": [
    "#Looking unique values\n",
    "print(comp_fail.nunique())\n",
    "#Looking the data\n",
    "print(comp_fail.head())"
   ]
  },
  {
   "cell_type": "code",
   "execution_count": null,
   "metadata": {},
   "outputs": [],
   "source": []
  }
 ]
}